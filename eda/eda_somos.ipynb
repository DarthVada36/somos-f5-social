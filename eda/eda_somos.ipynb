{
 "cells": [
  {
   "cell_type": "markdown",
   "id": "5667380a",
   "metadata": {},
   "source": [
    "EDA"
   ]
  }
 ],
 "metadata": {
  "language_info": {
   "name": "python"
  }
 },
 "nbformat": 4,
 "nbformat_minor": 5
}
